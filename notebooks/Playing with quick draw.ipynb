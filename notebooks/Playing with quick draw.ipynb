{
 "cells": [
  {
   "cell_type": "code",
   "execution_count": 5,
   "metadata": {},
   "outputs": [],
   "source": [
    "import numpy as np\n",
    "\n",
    "def parse_line(ndjson_line):\n",
    "    \"\"\"Parse an ndjson line and return ink (as np array) and classname.\"\"\"\n",
    "    sample = json.loads(ndjson_line)\n",
    "    class_name = sample[\"word\"]\n",
    "    inkarray = sample[\"drawing\"]\n",
    "    stroke_lengths = [len(stroke[0]) for stroke in inkarray]\n",
    "    total_points = sum(stroke_lengths)\n",
    "    np_ink = np.zeros((total_points, 3), dtype=np.float32)\n",
    "    current_t = 0\n",
    "    for stroke in inkarray:\n",
    "        for i in [0, 1]:\n",
    "            np_ink[current_t:(current_t + len(stroke[0])), i] = stroke[i]\n",
    "        current_t += len(stroke[0])\n",
    "        np_ink[current_t - 1, 2] = 1  # stroke_end\n",
    "    # Preprocessing.\n",
    "    # 1. Size normalization.\n",
    "    lower = np.min(np_ink[:, 0:2], axis=0)\n",
    "    upper = np.max(np_ink[:, 0:2], axis=0)\n",
    "    scale = upper - lower\n",
    "    scale[scale == 0] = 1\n",
    "    np_ink[:, 0:2] = (np_ink[:, 0:2] - lower) / scale\n",
    "    # 2. Compute deltas.\n",
    "    np_ink[1:, 0:2] -= np_ink[0:-1, 0:2]\n",
    "    np_ink = np_ink[1:, :]\n",
    "    return np_ink, class_name\n",
    "\n"
   ]
  },
  {
   "cell_type": "code",
   "execution_count": 7,
   "metadata": {},
   "outputs": [
    {
     "data": {
      "text/plain": [
       "['bee.ndjson_.gstmp',\n",
       " 'arm.ndjson',\n",
       " 'belt.ndjson',\n",
       " 'bracelet.ndjson_.gstmp',\n",
       " 'asparagus.ndjson',\n",
       " 'beard.ndjson',\n",
       " 'axe.ndjson',\n",
       " 'basket.ndjson',\n",
       " 'bed.ndjson',\n",
       " 'The Great Wall of China.ndjson',\n",
       " 'bench.ndjson',\n",
       " 'aircraft carrier.ndjson',\n",
       " 'bandage.ndjson',\n",
       " 'cactus.ndjson_.gstmp',\n",
       " 'bucket.ndjson_.gstmp',\n",
       " 'baseball.ndjson',\n",
       " 'binoculars.ndjson_.gstmp',\n",
       " 'bowtie.ndjson',\n",
       " 'butterfly.ndjson_.gstmp',\n",
       " 'bicycle.ndjson_.gstmp',\n",
       " 'boomerang.ndjson',\n",
       " 'bush.ndjson_.gstmp',\n",
       " 'bus.ndjson_.gstmp',\n",
       " 'bat.ndjson',\n",
       " 'birthday cake.ndjson',\n",
       " 'alarm clock.ndjson',\n",
       " 'anvil.ndjson',\n",
       " 'ant.ndjson',\n",
       " 'barn.ndjson',\n",
       " 'animal migration.ndjson',\n",
       " 'baseball bat.ndjson',\n",
       " 'brain.ndjson_.gstmp',\n",
       " 'bird.ndjson_.gstmp',\n",
       " 'book.ndjson_.gstmp',\n",
       " 'cake.ndjson_.gstmp',\n",
       " 'The Eiffel Tower.ndjson',\n",
       " 'basketball.ndjson',\n",
       " 'bathtub.ndjson_.gstmp',\n",
       " 'broom.ndjson_.gstmp',\n",
       " 'airplane.ndjson',\n",
       " 'broccoli.ndjson',\n",
       " 'bear.ndjson_.gstmp',\n",
       " 'banana.ndjson_.gstmp',\n",
       " 'apple.ndjson',\n",
       " 'bulldozer.ndjson',\n",
       " 'The Mona Lisa.ndjson',\n",
       " 'bread.ndjson',\n",
       " 'angel.ndjson_.gstmp',\n",
       " 'backpack.ndjson',\n",
       " 'beach.ndjson',\n",
       " 'blueberry.ndjson',\n",
       " 'ambulance.ndjson',\n",
       " 'blackberry.ndjson_.gstmp',\n",
       " 'bridge.ndjson',\n",
       " 'bottlecap.ndjson_.gstmp']"
      ]
     },
     "execution_count": 7,
     "metadata": {},
     "output_type": "execute_result"
    }
   ],
   "source": [
    "import os\n",
    "\n",
    "os.listdir(\"../dataset\")"
   ]
  },
  {
   "cell_type": "code",
   "execution_count": 46,
   "metadata": {},
   "outputs": [
    {
     "data": {
      "image/png": "[encoded data removed]",
      "text/plain": [
       "<Figure size 432x288 with 1 Axes>"
      ]
     },
     "metadata": {
      "needs_background": "light"
     },
     "output_type": "display_data"
    }
   ],
   "source": [
    "import json\n",
    "from matplotlib import pyplot as plt\n",
    "\n",
    "with open(\"../dataset/beach.ndjson\") as f:\n",
    "    data = f.readlines()\n",
    "    \n",
    "plt.plot(*json.loads(data[0].strip())[\"drawing\"][0])\n",
    "plt.show()"
   ]
  },
  {
   "cell_type": "code",
   "execution_count": 67,
   "metadata": {},
   "outputs": [
    {
     "data": {
      "image/png": "[encoded data removed]",
      "text/plain": [
       "<Figure size 432x288 with 1 Axes>"
      ]
     },
     "metadata": {
      "needs_background": "light"
     },
     "output_type": "display_data"
    }
   ],
   "source": [
    "#def draw_points\n",
    "\n",
    "def draw_example(data, i):\n",
    "    elems = json.loads(data[i].strip())[\"drawing\"]\n",
    "    for k in range(len(elems)):\n",
    "        plt.plot(*elems[k])\n",
    "    plt.axis('off')\n",
    "    #plt.show()\n",
    "    plt.savefig(\"./ab.jpg\")\n",
    "    \n",
    "\n",
    "draw_example(data, 11)"
   ]
  },
  {
   "cell_type": "code",
   "execution_count": 63,
   "metadata": {},
   "outputs": [
    {
     "data": {
      "text/plain": [
       "['plt_x.svg',\n",
       " 'plt.svg',\n",
       " 'Sampling points from an image.ipynb',\n",
       " 'ab.jpg',\n",
       " 'half_face.svg',\n",
       " 'Play with Delaunay triangles and random points.ipynb',\n",
       " 'plt_gauss.svg',\n",
       " 'Playing with quick draw.ipynb',\n",
       " '.ipynb_checkpoints',\n",
       " 'plt_3.svg',\n",
       " 'plt_2.svg',\n",
       " 'face_delaunay.svg',\n",
       " 'plt_poisson.svg']"
      ]
     },
     "execution_count": 63,
     "metadata": {},
     "output_type": "execute_result"
    }
   ],
   "source": [
    "os.listdir(\".\")"
   ]
  },
  {
   "cell_type": "code",
   "execution_count": 64,
   "metadata": {},
   "outputs": [
    {
     "data": {
      "text/plain": [
       "['.DS_Store', 'dataset', 'axi', 'AxiDraw_API_v256', 'notebooks']"
      ]
     },
     "execution_count": 64,
     "metadata": {},
     "output_type": "execute_result"
    }
   ],
   "source": [
    "os.listdir(\"..\")"
   ]
  },
  {
   "cell_type": "code",
   "execution_count": 66,
   "metadata": {},
   "outputs": [],
   "source": [
    "with open(\"poppo\", \"w\") as g:\n",
    "    g.write(\"popo\")"
   ]
  },
  {
   "cell_type": "code",
   "execution_count": null,
   "metadata": {},
   "outputs": [],
   "source": []
  }
 ],
 "metadata": {
  "kernelspec": {
   "display_name": "Python 3",
   "language": "python",
   "name": "python3"
  },
  "language_info": {
   "codemirror_mode": {
    "name": "ipython",
    "version": 3
   },
   "file_extension": ".py",
   "mimetype": "text/x-python",
   "name": "python",
   "nbconvert_exporter": "python",
   "pygments_lexer": "ipython3",
   "version": "3.6.9"
  }
 },
 "nbformat": 4,
 "nbformat_minor": 2
}
